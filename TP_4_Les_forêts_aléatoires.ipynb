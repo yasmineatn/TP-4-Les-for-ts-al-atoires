{
  "nbformat": 4,
  "nbformat_minor": 0,
  "metadata": {
    "colab": {
      "provenance": [],
      "collapsed_sections": []
    },
    "kernelspec": {
      "name": "python3",
      "display_name": "Python 3"
    },
    "language_info": {
      "name": "python"
    }
  },
  "cells": [
    {
      "cell_type": "markdown",
      "source": [
        "# Bagging "
      ],
      "metadata": {
        "id": "VnoAntVYRm5Y"
      }
    },
    {
      "cell_type": "markdown",
      "source": [
        "Dans ce TP nous allons utiliser la base de données digits, qui contient 10 classes \n",
        "(images des chiffres en écriture manuscrite). Il y a 1797 éléments, chaque élément a 64 \n",
        "attributs (8 pixels par 8)"
      ],
      "metadata": {
        "id": "rOh8zy9VSMyw"
      }
    },
    {
      "cell_type": "code",
      "execution_count": 4,
      "metadata": {
        "colab": {
          "base_uri": "https://localhost:8080/",
          "height": 78
        },
        "id": "hXaBpmnwsRmI",
        "outputId": "663d273d-0d1d-43fb-d2f1-eb9afd5b1ddd"
      },
      "outputs": [
        {
          "output_type": "display_data",
          "data": {
            "text/plain": [
              "<Figure size 432x288 with 10 Axes>"
            ],
            "image/png": "[encoded data removed]"
          },
          "metadata": {
            "needs_background": "light"
          }
        }
      ],
      "source": [
        "from sklearn.datasets import load_digits\n",
        "digits = load_digits()\n",
        "# Affichage des 10 premières images\n",
        "import matplotlib.pyplot as plt\n",
        "fig = plt.figure()\n",
        "for i, digit in enumerate(digits.images[:10]):\n",
        " fig.add_subplot(1,10,i+1)\n",
        " plt.imshow(digit)\n",
        "plt.show()"
      ]
    },
    {
      "cell_type": "code",
      "source": [
        "print(\"\\n le nombre d'élément est\",len(digits.data))\n",
        "print(\"\\n le nombre d'attribut est\",len(digits.feature_names))\n",
        "print(\"\\n le nombre de classe est \",len(digits.target))"
      ],
      "metadata": {
        "colab": {
          "base_uri": "https://localhost:8080/"
        },
        "id": "PTMyS8M6NlPh",
        "outputId": "a7d3eea3-c14d-4313-85ff-1f3992492723"
      },
      "execution_count": 31,
      "outputs": [
        {
          "output_type": "stream",
          "name": "stdout",
          "text": [
            "\n",
            " le nombre d'élément est 1797\n",
            "\n",
            " le nombre d'attribut est 64\n",
            "\n",
            " le nombre de classe est  1797\n"
          ]
        }
      ]
    },
    {
      "cell_type": "markdown",
      "source": [
        "nous allons utiliser comme classifieur de base un arbre de \n",
        "décision DecisionTreeClassifier"
      ],
      "metadata": {
        "id": "mkKBW6UNSdZQ"
      }
    },
    {
      "cell_type": "code",
      "source": [
        "from sklearn.model_selection import train_test_split\n",
        "# 90% des données pour le test, 10% pour l'apprentissage\n",
        "X_train, X_test, y_train, y_test = train_test_split(X, y, test_size=0.90)"
      ],
      "metadata": {
        "id": "hkKRW3M4yPnU"
      },
      "execution_count": 6,
      "outputs": []
    },
    {
      "cell_type": "code",
      "source": [
        "clf = tree.DecisionTreeClassifier()\n",
        "clf.fit(X_train, y_train)\n",
        "Z = clf.predict(X_test)\n",
        "accuracy = clf.score(X_test,y_test)\n",
        "print(accuracy)"
      ],
      "metadata": {
        "colab": {
          "base_uri": "https://localhost:8080/"
        },
        "id": "lZrAEo-xxHGl",
        "outputId": "6dc89dd5-50b3-47aa-a588-35023a228962"
      },
      "execution_count": null,
      "outputs": [
        {
          "output_type": "stream",
          "name": "stdout",
          "text": [
            "0.6495673671199012\n"
          ]
        }
      ]
    },
    {
      "cell_type": "markdown",
      "source": [
        "**Question :Construire la variance de la valeur accuracy sur 100 tirages pour la séparation\n",
        "apprentissage/test. Que pouvons-nous conclure ?**\n"
      ],
      "metadata": {
        "id": "RAKNIRROzfj9"
      }
    },
    {
      "cell_type": "code",
      "source": [
        "import numpy as np \n",
        "L=[]\n",
        "for i in range (100):\n",
        "  X_train, X_test, y_train, y_test = train_test_split(X, y, test_size=0.90)\n",
        "  clf = tree.DecisionTreeClassifier()\n",
        "  clf.fit(X_train, y_train)\n",
        "  Z = clf.predict(X_test)\n",
        "  accuracy = clf.score(X_test,y_test)\n",
        "  L.append(accuracy)\n",
        "X=np.array(L)\n",
        "print(\"standard diviation{}\".format(X.std()))"
      ],
      "metadata": {
        "colab": {
          "base_uri": "https://localhost:8080/"
        },
        "id": "3RGoLsk7xkEo",
        "outputId": "ef5a1b90-a145-4085-b03d-96649c90b576"
      },
      "execution_count": null,
      "outputs": [
        {
          "output_type": "stream",
          "name": "stdout",
          "text": [
            "standard diviation0.028461446213912913\n"
          ]
        }
      ]
    },
    {
      "cell_type": "markdown",
      "source": [
        "l'ecart type est l'orde de 2% , on peut conclure que l'accuracy varie d'une facon significative d'une prediction à une autre  "
      ],
      "metadata": {
        "id": "QewcOtli00-V"
      }
    },
    {
      "cell_type": "markdown",
      "source": [
        "**Question :\n",
        "Calculer la variance de la valeur accuracy sur 100 tirages pour la séparation apprentissage/test.\n",
        "Comparer avec la variance du classifieur de base. Que pouvons-nous conclure ?**"
      ],
      "metadata": {
        "id": "T-zT5FP925aP"
      }
    },
    {
      "cell_type": "code",
      "source": [
        "from sklearn.ensemble import BaggingClassifier\n",
        "clf = BaggingClassifier(tree.DecisionTreeClassifier(),\n",
        "max_samples=0.5, max_features=0.5, n_estimators=200)"
      ],
      "metadata": {
        "id": "1GglFSPLz_U-"
      },
      "execution_count": null,
      "outputs": []
    },
    {
      "cell_type": "code",
      "source": [
        "L=[]\n",
        "for i in range (100):\n",
        "  clf.fit(X_train, y_train)\n",
        "  Z = clf.predict(X_test)\n",
        "  accuracy=clf.score(X_test,y_test)\n",
        "  L.append(accuracy)\n",
        "X=np.array(L)\n",
        "print(\"standard diviation{}\".format(X.std()))"
      ],
      "metadata": {
        "colab": {
          "base_uri": "https://localhost:8080/"
        },
        "id": "5ivANpw938qF",
        "outputId": "7c904d2d-97f4-4285-bb11-973d8f6fb701"
      },
      "execution_count": null,
      "outputs": [
        {
          "output_type": "stream",
          "name": "stdout",
          "text": [
            "standard diviation0.0039980474041083\n"
          ]
        }
      ]
    },
    {
      "cell_type": "markdown",
      "source": [
        "La methode de bagging a réussit à réduire la variation l'accuracy d'une prediction à une autre.Cela vient du fait que le bagging  construit plusieurs instances d’un estimateur et ensuite combine les prédictions \n",
        "individuelles en réalisant leur moyenne "
      ],
      "metadata": {
        "id": "iajHpz7cU22o"
      }
    },
    {
      "cell_type": "markdown",
      "source": [
        "**Question :\n",
        "Construire le graphique accuracy vs n_estimators. Que constatez-vous ?**"
      ],
      "metadata": {
        "id": "dhRB8sH8DubO"
      }
    },
    {
      "cell_type": "code",
      "source": [
        "L_estimator=[]\n",
        "L_accu=[]\n",
        "for i in range (2,500,20):\n",
        "  clf = BaggingClassifier(tree.DecisionTreeClassifier(),\n",
        "  max_samples=0.5, max_features=0.5, n_estimators=i)  \n",
        "  clf.fit(X_train, y_train)\n",
        "  Z = clf.predict(X_test)\n",
        "  accuracy=clf.score(X_test,y_test)\n",
        "  L_estimator.append(i)\n",
        "  L_accu.append(accuracy)\n",
        "\n"
      ],
      "metadata": {
        "id": "CS0BHibSDt1v"
      },
      "execution_count": null,
      "outputs": []
    },
    {
      "cell_type": "code",
      "source": [
        "import matplotlib.pyplot as plt \n",
        "\n",
        "fig, ax = plt.subplots()\n",
        "ax.plot(L_estimator, L_accu)\n",
        "\n",
        "ax.set(xlabel='n_estimators', ylabel='accuracy',\n",
        "       title='accuracy vs n_estimators')\n",
        "ax.grid()"
      ],
      "metadata": {
        "colab": {
          "base_uri": "https://localhost:8080/",
          "height": 296
        },
        "id": "IOSIDt4c39HH",
        "outputId": "540d9c48-9987-4643-ea91-562cc44025b5"
      },
      "execution_count": null,
      "outputs": [
        {
          "output_type": "display_data",
          "data": {
            "text/plain": [
              "<Figure size 432x288 with 1 Axes>"
            ],
            "image/png": "[encoded data removed]"
          },
          "metadata": {
            "needs_background": "light"
          }
        }
      ]
    },
    {
      "cell_type": "markdown",
      "source": [
        "la valeur d'accuracy augmente avec le n_estimators , à partir de n_estimators=100 elle commence à etre stable"
      ],
      "metadata": {
        "id": "YkCpBxROI-zn"
      }
    },
    {
      "cell_type": "markdown",
      "source": [
        "**Question :\n",
        "Faites varier les parametres max_samples et max_features. Pour quelles valeurs on obtient le \n",
        "meilleur résultat ? On pourra notamment utiliser GridSearchCV pour réaliser une recherche \n",
        "systématique.**"
      ],
      "metadata": {
        "id": "3OusykR0WbB2"
      }
    },
    {
      "cell_type": "code",
      "source": [
        "from sklearn.model_selection import GridSearchCV\n",
        "from sklearn import tree \n",
        "tree_para = {'criterion':['gini'],'max_leaf_nodes':[10,15,20,25,30,35,40],'max_features':[10,11,12,15,20,30,40,50,70]}\n",
        "clf = GridSearchCV(tree.DecisionTreeClassifier(), tree_para, cv=2)\n",
        "clf.fit(X_train,y_train)\n",
        "print(\"\\n The best estimator :\",clf.best_estimator_)\n",
        "print(\"\\n the best score : \",clf.best_score_)"
      ],
      "metadata": {
        "id": "paNsFZRBIOql",
        "colab": {
          "base_uri": "https://localhost:8080/"
        },
        "outputId": "a35d65b0-4822-499c-fdf5-afb51c524b77"
      },
      "execution_count": 33,
      "outputs": [
        {
          "output_type": "stream",
          "name": "stdout",
          "text": [
            "\n",
            " The best estimator : DecisionTreeClassifier(max_features=40, max_leaf_nodes=35)\n",
            "\n",
            " the best score :  0.6260923845193509\n"
          ]
        },
        {
          "output_type": "stream",
          "name": "stderr",
          "text": [
            "/usr/local/lib/python3.7/dist-packages/sklearn/model_selection/_validation.py:372: FitFailedWarning: \n",
            "14 fits failed out of a total of 126.\n",
            "The score on these train-test partitions for these parameters will be set to nan.\n",
            "If these failures are not expected, you can try to debug them by setting error_score='raise'.\n",
            "\n",
            "Below are more details about the failures:\n",
            "--------------------------------------------------------------------------------\n",
            "14 fits failed with the following error:\n",
            "Traceback (most recent call last):\n",
            "  File \"/usr/local/lib/python3.7/dist-packages/sklearn/model_selection/_validation.py\", line 680, in _fit_and_score\n",
            "    estimator.fit(X_train, y_train, **fit_params)\n",
            "  File \"/usr/local/lib/python3.7/dist-packages/sklearn/tree/_classes.py\", line 942, in fit\n",
            "    X_idx_sorted=X_idx_sorted,\n",
            "  File \"/usr/local/lib/python3.7/dist-packages/sklearn/tree/_classes.py\", line 308, in fit\n",
            "    raise ValueError(\"max_features must be in (0, n_features]\")\n",
            "ValueError: max_features must be in (0, n_features]\n",
            "\n",
            "  warnings.warn(some_fits_failed_message, FitFailedWarning)\n",
            "/usr/local/lib/python3.7/dist-packages/sklearn/model_selection/_search.py:972: UserWarning: One or more of the test scores are non-finite: [0.42484395 0.51360799 0.58632959 0.50280899 0.48052434 0.62540574\n",
            " 0.52540574 0.48620474 0.56416979 0.44151061 0.50293383 0.5417603\n",
            " 0.57553059 0.53651685 0.4974407  0.4355181  0.59213483 0.58071161\n",
            " 0.49169788 0.54737828 0.54213483 0.41872659 0.4747191  0.53077403\n",
            " 0.61429463 0.52534332 0.47446941 0.56410737 0.4968789  0.56429463\n",
            " 0.53052434 0.49725343 0.50293383 0.58077403 0.57515605 0.54737828\n",
            " 0.56385768 0.60299625 0.54182272 0.56435705 0.59731586 0.56935081\n",
            " 0.55287141 0.5474407  0.59781523 0.51367041 0.53071161 0.62609238\n",
            " 0.56435705 0.56922597 0.51935081 0.55280899 0.58083645 0.58071161\n",
            " 0.6144819  0.54706617        nan        nan        nan        nan\n",
            "        nan        nan        nan]\n",
            "  category=UserWarning,\n"
          ]
        }
      ]
    },
    {
      "cell_type": "markdown",
      "source": [
        "D'aprés GridSearchCV  pour max_features=40 et  max_leaf_nodes=35 on obtient le meilleur score qui est de l'ordre 0.6260923845193509"
      ],
      "metadata": {
        "id": "qtG44FlhWlPm"
      }
    },
    {
      "cell_type": "markdown",
      "source": [
        "# Forêts aléatoires"
      ],
      "metadata": {
        "id": "_NfFIaeBRqx3"
      }
    },
    {
      "cell_type": "markdown",
      "source": [
        "Par la suite nous allons refaire la classification sur la base Digits en utilisant un \n",
        "classifieur RandomForestClassifier. Comme d’habitude, on sépare les données en gardant 10% \n",
        "pour l’apprentissage et 90% pour le test."
      ],
      "metadata": {
        "id": "N_T1KAvjXtsY"
      }
    },
    {
      "cell_type": "code",
      "source": [
        "digits = load_digits()\n",
        "X, y = digits.data, digits.target\n",
        "from sklearn.model_selection import train_test_split\n",
        "X_train, X_test, y_train, y_test = train_test_split(X, y,\n",
        "test_size=0.90)"
      ],
      "metadata": {
        "id": "NEt6_WBgRw9t"
      },
      "execution_count": 35,
      "outputs": []
    },
    {
      "cell_type": "code",
      "source": [
        "from sklearn.ensemble import RandomForestClassifier\n",
        "clf = RandomForestClassifier(n_estimators=200)\n",
        "clf.fit(X_train, y_train)\n",
        "y_pred = clf.predict(X_test)\n",
        "accuracy = clf.score(X_test,y_test)\n",
        "print(accuracy)"
      ],
      "metadata": {
        "colab": {
          "base_uri": "https://localhost:8080/"
        },
        "id": "EO7t4vvNXv1-",
        "outputId": "f8a6ce15-86ec-4563-c1e0-13ff9a1eb946"
      },
      "execution_count": 36,
      "outputs": [
        {
          "output_type": "stream",
          "name": "stdout",
          "text": [
            "0.9060568603213844\n"
          ]
        }
      ]
    },
    {
      "cell_type": "markdown",
      "source": [
        "**Question :\n",
        "Comment la valeur de la variable accuracy se compare avec le cas bagging qui utilise le même \n",
        "nombre d’arbres (200 dans notre cas) ?**"
      ],
      "metadata": {
        "id": "aQFn3fq7YXJN"
      }
    },
    {
      "cell_type": "markdown",
      "source": [
        "Bagging avec un même nombre d’arbres égal à 200 "
      ],
      "metadata": {
        "id": "YATSKnOeYtVV"
      }
    },
    {
      "cell_type": "code",
      "source": [
        "from sklearn.ensemble import BaggingClassifier\n",
        "clf = BaggingClassifier(tree.DecisionTreeClassifier(),\n",
        "max_samples=0.5, max_features=0.5, n_estimators=200)\n",
        "clf.fit(X_train, y_train)\n",
        "Z = clf.predict(X_test)\n",
        "accuracy=clf.score(X_test,y_test)\n",
        "accuracy"
      ],
      "metadata": {
        "colab": {
          "base_uri": "https://localhost:8080/"
        },
        "id": "rRgYfNTbX6vg",
        "outputId": "fa6a5a7f-7b3d-421f-ad50-31b60a81d8aa"
      },
      "execution_count": 38,
      "outputs": [
        {
          "output_type": "execute_result",
          "data": {
            "text/plain": [
              "0.8974042027194067"
            ]
          },
          "metadata": {},
          "execution_count": 38
        }
      ]
    },
    {
      "cell_type": "markdown",
      "source": [
        "On constate que l’algorithme des forêts aléatoires  et bagging retournent  presque la meme valeur de l 'accuracy (0.9 et 0.89) pour un même nombre d’arbres égal à 200. Cela vient du fait que l'algorithme des forêts aléatoires utilise le même principe que le bagging, mais avec une étape supplémentaire de randomisation dans \n",
        "la sélection des attributs des nœuds"
      ],
      "metadata": {
        "id": "oyjnzwbrY1Ql"
      }
    },
    {
      "cell_type": "markdown",
      "source": [
        "**Question :\n",
        "Construire la variance de la valeur accuracy sur 100 tirages pour la séparation \n",
        "apprentissage/test. Que pouvons-nous conclure en comparant avec la séction précedente \n",
        "(bagging) ?**"
      ],
      "metadata": {
        "id": "cW4Mk-4baBAO"
      }
    },
    {
      "cell_type": "code",
      "source": [
        "clf = RandomForestClassifier(n_estimators=200)"
      ],
      "metadata": {
        "id": "u8dFBH1vYk5S"
      },
      "execution_count": 39,
      "outputs": []
    },
    {
      "cell_type": "code",
      "source": [
        "import numpy as np \n",
        "L=[]\n",
        "for i in range (100):\n",
        "  clf.fit(X_train, y_train)\n",
        "  Z = clf.predict(X_test)\n",
        "  accuracy=clf.score(X_test,y_test)\n",
        "  L.append(accuracy)\n",
        "X=np.array(L)\n",
        "print(\"standard diviation{}\".format(X.std()))"
      ],
      "metadata": {
        "colab": {
          "base_uri": "https://localhost:8080/"
        },
        "id": "W-A-vEQkaSr0",
        "outputId": "cf716fd3-61f4-45e0-e6c3-17c063fa39c0"
      },
      "execution_count": 41,
      "outputs": [
        {
          "output_type": "stream",
          "name": "stdout",
          "text": [
            "standard diviation0.004188224841580859\n"
          ]
        }
      ]
    },
    {
      "cell_type": "markdown",
      "source": [
        "Tout comme le bagging, dans  l'algorithme des forets aléatoire la valeur de l'accuracy est presque la meme d'une prediction à une autre (les valeurs de l'ecart type sont respectivement de l'orde de 0.003 et 0.004 )"
      ],
      "metadata": {
        "id": "k3ltZeJkcv9F"
      }
    },
    {
      "cell_type": "markdown",
      "source": [
        "**Question :\n",
        "Construire le graphique accuracy vs n_estimators. Que constatez-vous ? A partir de quelle valeur \n",
        "on n’améliore plus ?**"
      ],
      "metadata": {
        "id": "suIhwYQVdcRs"
      }
    },
    {
      "cell_type": "code",
      "source": [
        "L_estimator=[]\n",
        "L_accu=[]\n",
        "for i in range (2,500,20):\n",
        "  clf = RandomForestClassifier(n_estimators=i)\n",
        "  clf.fit(X_train, y_train)\n",
        "  Z = clf.predict(X_test)\n",
        "  accuracy=clf.score(X_test,y_test)\n",
        "  L_estimator.append(i)\n",
        "  L_accu.append(accuracy)"
      ],
      "metadata": {
        "id": "5ARPJG4taf88"
      },
      "execution_count": 42,
      "outputs": []
    },
    {
      "cell_type": "code",
      "source": [
        "import matplotlib.pyplot as plt \n",
        "\n",
        "fig, ax = plt.subplots()\n",
        "ax.plot(L_estimator, L_accu)\n",
        "\n",
        "ax.set(xlabel='n_estimators', ylabel='accuracy',\n",
        "       title='accuracy vs n_estimators')\n",
        "ax.grid()"
      ],
      "metadata": {
        "colab": {
          "base_uri": "https://localhost:8080/",
          "height": 296
        },
        "id": "N4LAO8x4dssW",
        "outputId": "f9ed28f0-f4d9-4505-e184-b70c3fc65a25"
      },
      "execution_count": 43,
      "outputs": [
        {
          "output_type": "display_data",
          "data": {
            "text/plain": [
              "<Figure size 432x288 with 1 Axes>"
            ],
            "image/png": "[encoded data removed]"
          },
          "metadata": {
            "needs_background": "light"
          }
        }
      ]
    },
    {
      "cell_type": "markdown",
      "source": [
        "la valeur d'accuracy augmente avec le n_estimators , à partir de n_estimators=180 elle commence à etre stable"
      ],
      "metadata": {
        "id": "_xXGnQimeJe7"
      }
    },
    {
      "cell_type": "markdown",
      "source": [
        "**Question :\n",
        "Regardez dans la documentation les ExtraTreesClassifier et refaites la classification avec ce \n",
        "type de classifieur. Comparez avec RandomForestClassifier.**"
      ],
      "metadata": {
        "id": "l1TCs8S1eQHc"
      }
    },
    {
      "cell_type": "markdown",
      "source": [
        "Extra Trees est une méthode d'apprentissage ensembliste qui ressemble à Random Forest, en ce sens qu'il construit plusieurs arbres et divise les nœuds en utilisant des sous-ensembles aléatoires de caractéristiques, mais avec deux différences essentielles : il n'effectue pas de bootstrap des observations (ce qui signifie qu'il échantillonne sans remplacement), et les nœuds sont divisés sur des divisions aléatoires, et non sur les meilleures divisions.\n",
        "\n"
      ],
      "metadata": {
        "id": "4w8dWKrnwFXQ"
      }
    },
    {
      "cell_type": "code",
      "source": [
        "from sklearn.model_selection import GridSearchCV\n",
        "from sklearn.ensemble import RandomForestClassifier\n",
        "tree_para = {'criterion':['gini'],'n_estimators':[50,100,150,200,250]}\n",
        "clf = GridSearchCV(RandomForestClassifier(), tree_para, cv=2)\n",
        "clf.fit(X_train,y_train)\n",
        "print(\"\\n The best estimator :\",clf.best_estimator_)\n",
        "print(\"\\n the best score : \",clf.best_score_)"
      ],
      "metadata": {
        "colab": {
          "base_uri": "https://localhost:8080/"
        },
        "id": "j9ZmHIqnqxso",
        "outputId": "c00b65a1-138b-4b63-c1e8-a74960ffb5a2"
      },
      "execution_count": 85,
      "outputs": [
        {
          "output_type": "stream",
          "name": "stdout",
          "text": [
            "\n",
            " The best estimator : RandomForestClassifier(n_estimators=200)\n",
            "\n",
            " the best score :  0.8435081148564294\n"
          ]
        }
      ]
    },
    {
      "cell_type": "code",
      "source": [
        "start_time = time.time()\n",
        "clf = RandomForestClassifier(n_estimators=200)\n",
        "clf.fit(X_train, y_train)\n",
        "Z = clf.predict(X_test)\n",
        "accuracy=clf.score(X_test,y_test)\n",
        "end_time = time.time()\n",
        "print(\"\\n accuracy de extremely randomized trees classifier est:{}\".format(accuracy))\n",
        "print(\"\\n Temps d'execution est:{} s\".format(end_time-start_time))"
      ],
      "metadata": {
        "colab": {
          "base_uri": "https://localhost:8080/"
        },
        "id": "4CP4gCcmon9D",
        "outputId": "4bb21592-231d-4830-fd0b-25d7a817ac01"
      },
      "execution_count": 86,
      "outputs": [
        {
          "output_type": "stream",
          "name": "stdout",
          "text": [
            "\n",
            " accuracy de extremely randomized trees classifier est:0.9110012360939431\n",
            "\n",
            " Temps d'execution est:0.4742929935455322 s\n"
          ]
        }
      ]
    },
    {
      "cell_type": "code",
      "source": [
        "from sklearn.ensemble import ExtraTreesClassifier\n",
        "tree_para = {'criterion':['gini'],'n_estimators':[50,100,150,200,250]}\n",
        "clf = GridSearchCV(ExtraTreesClassifier(), tree_para, cv=2)\n",
        "clf.fit(X_train,y_train)\n",
        "print(\"\\n The best estimator :\",clf.best_estimator_)\n",
        "print(\"\\n the best score : \",clf.best_score_)"
      ],
      "metadata": {
        "colab": {
          "base_uri": "https://localhost:8080/"
        },
        "id": "TkYSTSpYsd2S",
        "outputId": "10b2feed-1566-410c-d63a-fbb8bbd4fd70"
      },
      "execution_count": 87,
      "outputs": [
        {
          "output_type": "stream",
          "name": "stdout",
          "text": [
            "\n",
            " The best estimator : ExtraTreesClassifier(n_estimators=150)\n",
            "\n",
            " the best score :  0.8712234706616729\n"
          ]
        }
      ]
    },
    {
      "cell_type": "code",
      "source": [
        "import time\n",
        "start_time = time.time()\n",
        "extra_tree_forest = ExtraTreesClassifier(n_estimators = 150)\n",
        "extra_tree_forest.fit(X_train, y_train)\n",
        "Z = extra_tree_forest.predict(X_test)\n",
        "accuracy=extra_tree_forest.score(X_test,y_test)\n",
        "end_time = time.time()\n",
        "print(\"\\n accuracy de extremely randomized trees classifier est:{}\".format(accuracy))\n",
        "print(\"\\n Temps d'execution est:{} s\".format(end_time-start_time))\n",
        "\n"
      ],
      "metadata": {
        "colab": {
          "base_uri": "https://localhost:8080/"
        },
        "id": "5ICyo596d53j",
        "outputId": "58b43a22-9601-4ba5-a751-3b6dba3433ea"
      },
      "execution_count": 88,
      "outputs": [
        {
          "output_type": "stream",
          "name": "stdout",
          "text": [
            "\n",
            " accuracy de extremely randomized trees classifier est:0.9276885043263288\n",
            "\n",
            " Temps d'execution est:0.2982327938079834 s\n"
          ]
        }
      ]
    },
    {
      "cell_type": "markdown",
      "source": [
        " les résultats obtenus sont pratiquement les mêmes pour les deux algorithmes(0.91  accuracy pour randomforestclassifier et 0.92 accuracy pour extratreesclassifier). Il est intéressant de noter la différence dans le temps d'exécution, où l'Extra Trees est beaucoup plus rapide(0.47s pour randomforestclassifier et 0.29 pour extratressclasifier)"
      ],
      "metadata": {
        "id": "yEMowHmarZCY"
      }
    },
    {
      "cell_type": "markdown",
      "source": [
        "# Boosting"
      ],
      "metadata": {
        "id": "MLAsgk5cwU-P"
      }
    },
    {
      "cell_type": "markdown",
      "source": [
        "Dans la suite nous allons refaire la classification sur la base Digits en utilisant Le principe du boosting avec  les DecisionTreeClassifier"
      ],
      "metadata": {
        "id": "IOpXbRp3xZB2"
      }
    },
    {
      "cell_type": "code",
      "source": [
        "from sklearn.ensemble import AdaBoostClassifier\n",
        "digits = load_digits()\n",
        "X, y = digits.data, digits.target\n",
        "X_train, X_test, y_train, y_test = train_test_split(X, y, test_size=0.90)\n",
        "# AdaBoost basé sur 200 arbres de décision\n",
        "clf =AdaBoostClassifier(base_estimator=tree.DecisionTreeClassifier(max_depth=5),\n",
        "n_estimators=200, learning_rate=2)\n",
        "clf.fit(X_train, y_train)\n",
        "accuracy = clf.score(X_test, y_test)\n",
        "print(accuracy)"
      ],
      "metadata": {
        "colab": {
          "base_uri": "https://localhost:8080/"
        },
        "id": "hmw9VitbwYCA",
        "outputId": "a331a01c-bc2e-4baa-bc3e-68c07cb389e4"
      },
      "execution_count": 89,
      "outputs": [
        {
          "output_type": "stream",
          "name": "stdout",
          "text": [
            "0.9079110012360939\n"
          ]
        }
      ]
    },
    {
      "cell_type": "markdown",
      "source": [
        "**Question :\n",
        "Le paramètre max_depth contrôle la profondeur de l’arbre. Essayez plusieurs valeurs pour voir \n",
        "l’impact de l’utilisation d’un classifieur faible vs plus fort (max_depth élevé ou éliminer le \n",
        "paramètre). Testez aussi l’effet du paramètre learning_rate et le nombre de classifieurs**"
      ],
      "metadata": {
        "id": "Hx0lwlYQzmuv"
      }
    },
    {
      "cell_type": "markdown",
      "source": [
        "l’impact de max depth "
      ],
      "metadata": {
        "id": "9nNpxSPJzusN"
      }
    },
    {
      "cell_type": "code",
      "source": [
        "L_estimator=[]\n",
        "L_accu=[]\n",
        "for i in range (5,50,5):\n",
        "  clf =AdaBoostClassifier(base_estimator=tree.DecisionTreeClassifier(max_depth=i),\n",
        "  n_estimators=200, learning_rate=2)\n",
        "  clf.fit(X_train, y_train)\n",
        "  accuracy = clf.score(X_test, y_test)\n",
        "  L_estimator.append(i)\n",
        "  L_accu.append(accuracy)"
      ],
      "metadata": {
        "id": "2XSPv0a2xy5u"
      },
      "execution_count": 96,
      "outputs": []
    },
    {
      "cell_type": "code",
      "source": [
        "import matplotlib.pyplot as plt \n",
        "\n",
        "fig, ax = plt.subplots()\n",
        "ax.plot(L_estimator, L_accu)\n",
        "\n",
        "ax.set(xlabel='max_depth', ylabel='accuracy',\n",
        "       title='accuracy vs max_depth')\n",
        "ax.grid()"
      ],
      "metadata": {
        "colab": {
          "base_uri": "https://localhost:8080/",
          "height": 296
        },
        "id": "QZY7ROkHz8Cm",
        "outputId": "443d0b78-54fc-40a4-baf0-04413e33222f"
      },
      "execution_count": 97,
      "outputs": [
        {
          "output_type": "display_data",
          "data": {
            "text/plain": [
              "<Figure size 432x288 with 1 Axes>"
            ],
            "image/png": "[encoded data removed]"
          },
          "metadata": {
            "needs_background": "light"
          }
        }
      ]
    },
    {
      "cell_type": "markdown",
      "source": [
        "la valeur optimal  max_depth est de l'odre de 5 qui donne une accuracy de 0.9  . Pour des valeurs de max_depth elevées l'algorithme commence à sur-apprendre d'ou la valeur de l'accuracy se décgrade"
      ],
      "metadata": {
        "id": "g3IrsRgB0jAN"
      }
    },
    {
      "cell_type": "markdown",
      "source": [
        "l’impact de n_estimators"
      ],
      "metadata": {
        "id": "Mm5SaeFX1SVF"
      }
    },
    {
      "cell_type": "code",
      "source": [
        "L_estimator=[]\n",
        "L_accu=[]\n",
        "for i in range (50,500,50):\n",
        "  clf =AdaBoostClassifier(base_estimator=tree.DecisionTreeClassifier(max_depth=5),\n",
        "  n_estimators=i, learning_rate=2)\n",
        "  clf.fit(X_train, y_train)\n",
        "  accuracy = clf.score(X_test, y_test)\n",
        "  L_estimator.append(i)\n",
        "  L_accu.append(accuracy)"
      ],
      "metadata": {
        "id": "IoUzQS_q0VaW"
      },
      "execution_count": 98,
      "outputs": []
    },
    {
      "cell_type": "code",
      "source": [
        "import matplotlib.pyplot as plt \n",
        "\n",
        "fig, ax = plt.subplots()\n",
        "ax.plot(L_estimator, L_accu)\n",
        "\n",
        "ax.set(xlabel='n_estimators', ylabel='accuracy',\n",
        "       title='accuracy vs n_estimators')\n",
        "ax.grid()"
      ],
      "metadata": {
        "colab": {
          "base_uri": "https://localhost:8080/",
          "height": 296
        },
        "id": "hDrGJGdJ1bwk",
        "outputId": "0efce299-fb79-4fbc-dd71-415352d40d45"
      },
      "execution_count": 99,
      "outputs": [
        {
          "output_type": "display_data",
          "data": {
            "text/plain": [
              "<Figure size 432x288 with 1 Axes>"
            ],
            "image/png": "[encoded data removed]"
          },
          "metadata": {
            "needs_background": "light"
          }
        }
      ]
    },
    {
      "cell_type": "markdown",
      "source": [
        "l'accuracy augmente au fur et à mesure avec les n_estimators. Pour n_estimators=100 elle commence à etre stable "
      ],
      "metadata": {
        "id": "6DMscL3j2XW-"
      }
    },
    {
      "cell_type": "code",
      "source": [],
      "metadata": {
        "id": "afXsrna5yyr8"
      },
      "execution_count": null,
      "outputs": []
    }
  ]
}